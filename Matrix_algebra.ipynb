{
 "cells": [
  {
   "cell_type": "markdown",
   "metadata": {},
   "source": [
    "<b> Shreya Kapoor  <br> \n",
    "kapoorshreya18@gmail.com <br>\n",
    "Intro to CS <br> \n",
    "MSc Life Science Informatics <br> \n",
    "WS 2018\n"
   ]
  },
  {
   "cell_type": "markdown",
   "metadata": {},
   "source": [
    "<b> Excercise 1. (Matrix Functions)"
   ]
  },
  {
   "cell_type": "code",
   "execution_count": 1,
   "metadata": {},
   "outputs": [],
   "source": [
    "from random import randint   #code for generating random numbers "
   ]
  },
  {
   "cell_type": "markdown",
   "metadata": {},
   "source": [
    "<b> • First think how we can present a matrix in the data structures we learnt so far then write a function that takes two arguments, the number of rows and columns, and returns matrix of size rows × column filled with random values between −5 to 5.(3P)\n"
   ]
  },
  {
   "cell_type": "code",
   "execution_count": 2,
   "metadata": {},
   "outputs": [],
   "source": [
    "def create_mat(m,n): \n",
    "    #empty list for storing the result after the addition of the matrices\n",
    "    mat = []\n",
    "    for i in range(m): \n",
    "        #this a new list defined for each row! \n",
    "        msub = []\n",
    "        for j in range(n): \n",
    "            # a random integer is generated for each element!\n",
    "            msub.append(randint(-5,5))\n",
    "        mat.append(msub)\n",
    "    return (mat)            \n",
    "    \n",
    "    "
   ]
  },
  {
   "cell_type": "markdown",
   "metadata": {},
   "source": [
    "<b> • Write function addition(M1,M2) which takes M1 and M2 matrices as input and calculates the addition of them. In matrix addition both matrices must have the same size, if M1 and M2 have different size the function should raise an exception. (4P)\n"
   ]
  },
  {
   "cell_type": "code",
   "execution_count": 3,
   "metadata": {},
   "outputs": [],
   "source": [
    "def addition(M1,M2): \n",
    "    # check the condition of no. of rows and cols in M1 = M2\n",
    "    if(len(M1)==len(M2) and len(M1[0])==len(M2[0])):\n",
    "        #the whole addition matrix\n",
    "        matsum = []\n",
    "        for i in range(len(M1)): \n",
    "            # the list of each row!\n",
    "            matr = []\n",
    "            for j in range(len(M1[0])): \n",
    "                matr.append(M1[i][j]+M2[i][j])\n",
    "            matsum.append(matr)\n",
    "        return matsum\n",
    "    else: \n",
    "        raise Exception('Size not compatible') \n",
    "        \n",
    "\n",
    "                "
   ]
  },
  {
   "cell_type": "markdown",
   "metadata": {},
   "source": [
    "<b> • Write function multiplication(M1,M2) which takes M1 and M2 matrices as input and calcu- lates matrix multiplication (not component-wise multiplication). Validate the inputs for matrix multiplication and raise an exception if necessary. (5P)"
   ]
  },
  {
   "cell_type": "code",
   "execution_count": 4,
   "metadata": {},
   "outputs": [],
   "source": [
    "def multiply(M1,M2): \n",
    "    m = len(M1)\n",
    "    n = len(M1[0])\n",
    "    n1= len(M2)\n",
    "    p = len(M2[0])\n",
    "    #checking the condition that no. of columns in M1 = no. of rows in M2\n",
    "    if (n==n1): \n",
    "        #the whole matrix \n",
    "        mat3 = []\n",
    "        for i in range(m): \n",
    "            #submatrix of each row\n",
    "            matrow = []\n",
    "            for k in range(p): \n",
    "                # each element is calculatd as a sum of component wise addition of vectors\n",
    "                num = 0\n",
    "                for j in range(n): \n",
    "                    num += M1[i][j]*M2[j][k]\n",
    "                matrow.append(num)\n",
    "            mat3.append(matrow)\n",
    "        return mat3 \n",
    "    else: \n",
    "        raise Exception('Column Length of 1st Matrix not equal to Row length of 2nd Matrix')\n",
    "        "
   ]
  },
  {
   "cell_type": "code",
   "execution_count": 5,
   "metadata": {},
   "outputs": [
    {
     "name": "stdout",
     "output_type": "stream",
     "text": [
      "Enter no. of rows and columns for the matrix M1 (separated by spaces) : 3 3\n",
      "Enter no. of rows and columns for the matrix M2 (separated by spaces) : 3 3\n",
      "First Generated matrix \n",
      " [[4, 3, 0], [0, 4, -5], [4, -2, 2]]\n",
      "\n",
      " Second Generated matrix \n",
      " [[1, 5, 1], [-1, -5, -4], [4, -2, 4]]\n",
      "Result after addition! \n",
      " [[5, 8, 1], [-1, -1, -9], [8, -4, 6]]\n",
      "Result after multiplication! \n",
      " [[1, 5, -8], [-24, -10, -36], [14, 26, 20]]\n"
     ]
    }
   ],
   "source": [
    "# when without exception case\n",
    "l = input('Enter no. of rows and columns for the matrix M1 (separated by spaces) : ')\n",
    "m = input('Enter no. of rows and columns for the matrix M2 (separated by spaces) : ')\n",
    "l = l.split(' ')\n",
    "m = m.split(' ')\n",
    "mat1 = create_mat(int(l[0]), int(l[1]))\n",
    "mat2 = create_mat(int(m[0]), int(m[1]))\n",
    "print (\"First Generated matrix \\n\", mat1)\n",
    "print (\"\\n Second Generated matrix \\n\", mat2)\n",
    "print ('Result after addition! \\n',addition(mat1,mat2))\n",
    "print ('Result after multiplication! \\n', multiply(mat1,mat2)) \n",
    "# the array so returned is a list of lists"
   ]
  },
  {
   "cell_type": "markdown",
   "metadata": {},
   "source": [
    "<b> Checking the validity of the solutions with the help of numpy library! "
   ]
  },
  {
   "cell_type": "code",
   "execution_count": 6,
   "metadata": {},
   "outputs": [
    {
     "name": "stdout",
     "output_type": "stream",
     "text": [
      "Addition matrix \n",
      " [[ 5  8  1]\n",
      " [-1 -1 -9]\n",
      " [ 8 -4  6]]\n",
      "Multiplication Matrix \n",
      " [[  1   5  -8]\n",
      " [-24 -10 -36]\n",
      " [ 14  26  20]]\n"
     ]
    }
   ],
   "source": [
    "import numpy as np\n",
    "\n",
    "mat1n = np.array(mat1)\n",
    "mat2n = np.array(mat2)\n",
    "mat3 = np.add(mat1,mat2)\n",
    "\n",
    "print ('Addition matrix \\n', mat3)\n",
    "mul = np.matmul(mat1n,mat2n)\n",
    "print ('Multiplication Matrix \\n', mul)"
   ]
  },
  {
   "cell_type": "markdown",
   "metadata": {},
   "source": [
    "<b> When the case of an exception arises! "
   ]
  },
  {
   "cell_type": "code",
   "execution_count": 7,
   "metadata": {},
   "outputs": [
    {
     "name": "stdout",
     "output_type": "stream",
     "text": [
      "Enter no. of rows and columns for the matrix M1 (separated by spaces) : 2 3\n",
      "Enter no. of rows and columns for the matrix M2 (separated by spaces) : 5 3\n",
      "First Generated matrix \n",
      " [[5, -3, 5], [2, -1, 1]]\n",
      "\n",
      " Second Generated matrix \n",
      " [[-2, -3, -1], [-2, -5, 4], [5, 0, 1], [-1, 5, 3], [4, 2, -1]]\n"
     ]
    }
   ],
   "source": [
    "\n",
    "l = input('Enter no. of rows and columns for the matrix M1 (separated by spaces) : ')\n",
    "m = input('Enter no. of rows and columns for the matrix M2 (separated by spaces) : ')\n",
    "l = l.split(' ')\n",
    "m = m.split(' ')\n",
    "mat1 = create_mat(int(l[0]), int(l[1]))\n",
    "mat2 = create_mat(int(m[0]), int(m[1]))\n",
    "print (\"First Generated matrix \\n\", mat1)\n",
    "print (\"\\n Second Generated matrix \\n\", mat2)"
   ]
  },
  {
   "cell_type": "code",
   "execution_count": 8,
   "metadata": {},
   "outputs": [
    {
     "ename": "Exception",
     "evalue": "Size not compatible",
     "output_type": "error",
     "traceback": [
      "\u001b[0;31m---------------------------------------------------------------------------\u001b[0m",
      "\u001b[0;31mException\u001b[0m                                 Traceback (most recent call last)",
      "\u001b[0;32m<ipython-input-8-777d6332cb4f>\u001b[0m in \u001b[0;36m<module>\u001b[0;34m()\u001b[0m\n\u001b[0;32m----> 1\u001b[0;31m \u001b[0mprint\u001b[0m \u001b[0;34m(\u001b[0m\u001b[0;34m'Result after addition! \\n'\u001b[0m\u001b[0;34m,\u001b[0m\u001b[0maddition\u001b[0m\u001b[0;34m(\u001b[0m\u001b[0mmat1\u001b[0m\u001b[0;34m,\u001b[0m\u001b[0mmat2\u001b[0m\u001b[0;34m)\u001b[0m\u001b[0;34m)\u001b[0m\u001b[0;34m\u001b[0m\u001b[0m\n\u001b[0m",
      "\u001b[0;32m<ipython-input-3-461074324ff7>\u001b[0m in \u001b[0;36maddition\u001b[0;34m(M1, M2)\u001b[0m\n\u001b[1;32m     12\u001b[0m         \u001b[0;32mreturn\u001b[0m \u001b[0mmatsum\u001b[0m\u001b[0;34m\u001b[0m\u001b[0m\n\u001b[1;32m     13\u001b[0m     \u001b[0;32melse\u001b[0m\u001b[0;34m:\u001b[0m\u001b[0;34m\u001b[0m\u001b[0m\n\u001b[0;32m---> 14\u001b[0;31m         \u001b[0;32mraise\u001b[0m \u001b[0mException\u001b[0m\u001b[0;34m(\u001b[0m\u001b[0;34m'Size not compatible'\u001b[0m\u001b[0;34m)\u001b[0m\u001b[0;34m\u001b[0m\u001b[0m\n\u001b[0m\u001b[1;32m     15\u001b[0m \u001b[0;34m\u001b[0m\u001b[0m\n\u001b[1;32m     16\u001b[0m \u001b[0;34m\u001b[0m\u001b[0m\n",
      "\u001b[0;31mException\u001b[0m: Size not compatible"
     ]
    }
   ],
   "source": [
    "print ('Result after addition! \\n',addition(mat1,mat2))"
   ]
  },
  {
   "cell_type": "code",
   "execution_count": null,
   "metadata": {},
   "outputs": [],
   "source": [
    "print ('Result after multiplication! \\n', multiply(mat1,mat2))"
   ]
  },
  {
   "cell_type": "markdown",
   "metadata": {},
   "source": [
    "\n",
    "<b> A brain atlas annotates each location in the brain with a numerical code that indicates the corresponding anatomical structure. In this task, you will read the assignment from numerical labels to textual anatomical labels for two brain atlases from XML files and represent them as Python dictionaries. Please download two provided files ”HarvardOxford-Cortical.xml” and ”HarvardOxford-Subcortical.xml” from lecture homepage and do the following tasks."
   ]
  },
  {
   "cell_type": "markdown",
   "metadata": {},
   "source": [
    "<b> Notice: For these tasks you don’t have to write (or use) a full XML parser, you can use the provided methods in the lecture to read the atlas file and take benefit of string methods to extract information from atlas file."
   ]
  },
  {
   "cell_type": "markdown",
   "metadata": {},
   "source": [
    "<b> • Write function AtlasDict(input) that takes atlas xml file path and returns the dictionary of in- dex to structural name. For example in ”Harvard-Oxford Cortical Structural Atlas”, the index of ”Postcentral Gyrus” is 16. (8p)\n"
   ]
  },
  {
   "cell_type": "code",
   "execution_count": 9,
   "metadata": {},
   "outputs": [],
   "source": [
    "def AtlasDict(filename):\n",
    "    with open (filename, 'r') as f: \n",
    "        a = f.read()\n",
    "        c = a.split('<label')\n",
    "        c = c[1:]\n",
    "        index =[]\n",
    "        descr = []\n",
    "        for i in range(len(c)): \n",
    "            index.append(c[i].split('index=\\\"')[1].split('\\\"')[0]) \n",
    "            descr.append(c[i].split('</label>\\n')[0].split('>')[1])\n",
    "        dict1 ={}\n",
    "        keys = index\n",
    "        k = 0\n",
    "        for i  in keys: \n",
    "            dict1[i] = descr[k]\n",
    "            k+=1\n",
    "    return dict1"
   ]
  },
  {
   "cell_type": "markdown",
   "metadata": {},
   "source": [
    "<b>• Write function summarize(input,output) that takes atlas xml file path and output path and produces a new file that contains the name of atlas, the short name, structures name and corre- sponding index and the total number of structural region. (5p)"
   ]
  },
  {
   "cell_type": "code",
   "execution_count": 10,
   "metadata": {},
   "outputs": [],
   "source": [
    "def summarize(inputfile, outputfile): \n",
    "    with open(inputfile,'r') as f: \n",
    "        a = f.read()\n",
    "    b = a.split('<name>')\n",
    "    b = b[1].split('</name')[0]\n",
    "    c = a.split('<shortname>')\n",
    "    c = c[1].split('</shortname')[0]\n",
    "    dict1 = {}\n",
    "    dict1['Atlas name'] = b\n",
    "    dict1['Atlas short'] = c\n",
    "    dict2 = AtlasDict(inputfile) \n",
    "    dict1.update(dict2)\n",
    "    \n",
    "    with open(outputfile,'w') as f2: \n",
    "        for key in dict1: \n",
    "            f2.write(key+': '+dict1[key]+'\\n')\n",
    "            print (key+': '+dict1[key]+'\\n')\n",
    "        f2.write('Number of structures in the atlas: '+str(len(dict2.keys())))\n",
    "        print ('Number of structures in the atlas: '+str(len(dict2.keys())))\n"
   ]
  },
  {
   "cell_type": "markdown",
   "metadata": {},
   "source": [
    "<b> For Harvard Oxford Cortical"
   ]
  },
  {
   "cell_type": "code",
   "execution_count": 11,
   "metadata": {},
   "outputs": [
    {
     "data": {
      "text/plain": [
       "{'0': 'Frontal Pole',\n",
       " '1': 'Insular Cortex',\n",
       " '2': 'Superior Frontal Gyrus',\n",
       " '3': 'Middle Frontal Gyrus',\n",
       " '4': 'Inferior Frontal Gyrus, pars triangularis',\n",
       " '5': 'Inferior Frontal Gyrus, pars opercularis',\n",
       " '6': 'Precentral Gyrus',\n",
       " '7': 'Temporal Pole',\n",
       " '8': 'Superior Temporal Gyrus, anterior division',\n",
       " '9': 'Superior Temporal Gyrus, posterior division',\n",
       " '10': 'Middle Temporal Gyrus, anterior division',\n",
       " '11': 'Middle Temporal Gyrus, posterior division',\n",
       " '12': 'Middle Temporal Gyrus, temporooccipital part',\n",
       " '13': 'Inferior Temporal Gyrus, anterior division',\n",
       " '14': 'Inferior Temporal Gyrus, posterior division',\n",
       " '15': 'Inferior Temporal Gyrus, temporooccipital part',\n",
       " '16': 'Postcentral Gyrus',\n",
       " '17': 'Superior Parietal Lobule',\n",
       " '18': 'Supramarginal Gyrus, anterior division',\n",
       " '19': 'Supramarginal Gyrus, posterior division',\n",
       " '20': 'Angular Gyrus',\n",
       " '21': 'Lateral Occipital Cortex, superior division',\n",
       " '22': 'Lateral Occipital Cortex, inferior division',\n",
       " '23': 'Intracalcarine Cortex',\n",
       " '24': 'Frontal Medial Cortex',\n",
       " '25': 'Juxtapositional Lobule Cortex (formerly Supplementary Motor Cortex)',\n",
       " '26': 'Subcallosal Cortex',\n",
       " '27': 'Paracingulate Gyrus',\n",
       " '28': 'Cingulate Gyrus, anterior division',\n",
       " '29': 'Cingulate Gyrus, posterior division',\n",
       " '30': 'Precuneous Cortex',\n",
       " '31': 'Cuneal Cortex',\n",
       " '32': 'Frontal Orbital Cortex',\n",
       " '33': 'Parahippocampal Gyrus, anterior division',\n",
       " '34': 'Parahippocampal Gyrus, posterior division',\n",
       " '35': 'Lingual Gyrus',\n",
       " '36': 'Temporal Fusiform Cortex, anterior division',\n",
       " '37': 'Temporal Fusiform Cortex, posterior division',\n",
       " '38': 'Temporal Occipital Fusiform Cortex',\n",
       " '39': 'Occipital Fusiform Gyrus',\n",
       " '40': 'Frontal Operculum Cortex',\n",
       " '41': 'Central Opercular Cortex',\n",
       " '42': 'Parietal Operculum Cortex',\n",
       " '43': 'Planum Polare',\n",
       " '44': \"Heschl's Gyrus (includes H1 and H2)\",\n",
       " '45': 'Planum Temporale',\n",
       " '46': 'Supracalcarine Cortex',\n",
       " '47': 'Occipital Pole'}"
      ]
     },
     "execution_count": 11,
     "metadata": {},
     "output_type": "execute_result"
    }
   ],
   "source": [
    "AtlasDict('/Users/shreyakapoor/Life_Science_Informatics/IntroductiontoCS/HarvardOxford-Cortical.xml')\n",
    "\n"
   ]
  },
  {
   "cell_type": "code",
   "execution_count": 12,
   "metadata": {},
   "outputs": [
    {
     "name": "stdout",
     "output_type": "stream",
     "text": [
      "Atlas name: Harvard-Oxford Cortical Structural Atlas\n",
      "\n",
      "Atlas short: HOCPA\n",
      "\n",
      "0: Frontal Pole\n",
      "\n",
      "1: Insular Cortex\n",
      "\n",
      "2: Superior Frontal Gyrus\n",
      "\n",
      "3: Middle Frontal Gyrus\n",
      "\n",
      "4: Inferior Frontal Gyrus, pars triangularis\n",
      "\n",
      "5: Inferior Frontal Gyrus, pars opercularis\n",
      "\n",
      "6: Precentral Gyrus\n",
      "\n",
      "7: Temporal Pole\n",
      "\n",
      "8: Superior Temporal Gyrus, anterior division\n",
      "\n",
      "9: Superior Temporal Gyrus, posterior division\n",
      "\n",
      "10: Middle Temporal Gyrus, anterior division\n",
      "\n",
      "11: Middle Temporal Gyrus, posterior division\n",
      "\n",
      "12: Middle Temporal Gyrus, temporooccipital part\n",
      "\n",
      "13: Inferior Temporal Gyrus, anterior division\n",
      "\n",
      "14: Inferior Temporal Gyrus, posterior division\n",
      "\n",
      "15: Inferior Temporal Gyrus, temporooccipital part\n",
      "\n",
      "16: Postcentral Gyrus\n",
      "\n",
      "17: Superior Parietal Lobule\n",
      "\n",
      "18: Supramarginal Gyrus, anterior division\n",
      "\n",
      "19: Supramarginal Gyrus, posterior division\n",
      "\n",
      "20: Angular Gyrus\n",
      "\n",
      "21: Lateral Occipital Cortex, superior division\n",
      "\n",
      "22: Lateral Occipital Cortex, inferior division\n",
      "\n",
      "23: Intracalcarine Cortex\n",
      "\n",
      "24: Frontal Medial Cortex\n",
      "\n",
      "25: Juxtapositional Lobule Cortex (formerly Supplementary Motor Cortex)\n",
      "\n",
      "26: Subcallosal Cortex\n",
      "\n",
      "27: Paracingulate Gyrus\n",
      "\n",
      "28: Cingulate Gyrus, anterior division\n",
      "\n",
      "29: Cingulate Gyrus, posterior division\n",
      "\n",
      "30: Precuneous Cortex\n",
      "\n",
      "31: Cuneal Cortex\n",
      "\n",
      "32: Frontal Orbital Cortex\n",
      "\n",
      "33: Parahippocampal Gyrus, anterior division\n",
      "\n",
      "34: Parahippocampal Gyrus, posterior division\n",
      "\n",
      "35: Lingual Gyrus\n",
      "\n",
      "36: Temporal Fusiform Cortex, anterior division\n",
      "\n",
      "37: Temporal Fusiform Cortex, posterior division\n",
      "\n",
      "38: Temporal Occipital Fusiform Cortex\n",
      "\n",
      "39: Occipital Fusiform Gyrus\n",
      "\n",
      "40: Frontal Operculum Cortex\n",
      "\n",
      "41: Central Opercular Cortex\n",
      "\n",
      "42: Parietal Operculum Cortex\n",
      "\n",
      "43: Planum Polare\n",
      "\n",
      "44: Heschl's Gyrus (includes H1 and H2)\n",
      "\n",
      "45: Planum Temporale\n",
      "\n",
      "46: Supracalcarine Cortex\n",
      "\n",
      "47: Occipital Pole\n",
      "\n",
      "Number of structures in the atlas: 48\n"
     ]
    }
   ],
   "source": [
    "summarize('/Users/shreyakapoor/Life_Science_Informatics/IntroductiontoCS/HarvardOxford-Cortical.xml', 'op1.txt')"
   ]
  },
  {
   "cell_type": "code",
   "execution_count": 13,
   "metadata": {},
   "outputs": [
    {
     "data": {
      "text/plain": [
       "{'0': 'Left Cerebral White Matter',\n",
       " '1': 'Left Cerebral Cortex ',\n",
       " '2': 'Left Lateral Ventrical',\n",
       " '3': 'Left Thalamus',\n",
       " '4': 'Left Caudate',\n",
       " '5': 'Left Putamen',\n",
       " '6': 'Left Pallidum',\n",
       " '7': 'Brain-Stem',\n",
       " '8': 'Left Hippocampus',\n",
       " '9': 'Left Amygdala',\n",
       " '10': 'Left Accumbens',\n",
       " '11': 'Right Cerebral White Matter',\n",
       " '12': 'Right Cerebral Cortex ',\n",
       " '13': 'Right Lateral Ventricle',\n",
       " '14': 'Right Thalamus',\n",
       " '15': 'Right Caudate',\n",
       " '16': 'Right Putamen',\n",
       " '17': 'Right Pallidum',\n",
       " '18': 'Right Hippocampus',\n",
       " '19': 'Right Amygdala',\n",
       " '20': 'Right Accumbens'}"
      ]
     },
     "execution_count": 13,
     "metadata": {},
     "output_type": "execute_result"
    }
   ],
   "source": [
    "AtlasDict('HarvardOxford-Subcortical.xml')"
   ]
  },
  {
   "cell_type": "code",
   "execution_count": 14,
   "metadata": {},
   "outputs": [
    {
     "name": "stdout",
     "output_type": "stream",
     "text": [
      "Atlas name: Harvard-Oxford Subcortical Structural Atlas\n",
      "\n",
      "Atlas short: HOSPA\n",
      "\n",
      "0: Left Cerebral White Matter\n",
      "\n",
      "1: Left Cerebral Cortex \n",
      "\n",
      "2: Left Lateral Ventrical\n",
      "\n",
      "3: Left Thalamus\n",
      "\n",
      "4: Left Caudate\n",
      "\n",
      "5: Left Putamen\n",
      "\n",
      "6: Left Pallidum\n",
      "\n",
      "7: Brain-Stem\n",
      "\n",
      "8: Left Hippocampus\n",
      "\n",
      "9: Left Amygdala\n",
      "\n",
      "10: Left Accumbens\n",
      "\n",
      "11: Right Cerebral White Matter\n",
      "\n",
      "12: Right Cerebral Cortex \n",
      "\n",
      "13: Right Lateral Ventricle\n",
      "\n",
      "14: Right Thalamus\n",
      "\n",
      "15: Right Caudate\n",
      "\n",
      "16: Right Putamen\n",
      "\n",
      "17: Right Pallidum\n",
      "\n",
      "18: Right Hippocampus\n",
      "\n",
      "19: Right Amygdala\n",
      "\n",
      "20: Right Accumbens\n",
      "\n",
      "Number of structures in the atlas: 21\n"
     ]
    }
   ],
   "source": [
    "summarize('HarvardOxford-Subcortical.xml', 'op2.txt')"
   ]
  },
  {
   "cell_type": "code",
   "execution_count": null,
   "metadata": {},
   "outputs": [],
   "source": []
  }
 ],
 "metadata": {
  "kernelspec": {
   "display_name": "Python 3",
   "language": "python",
   "name": "python3"
  },
  "language_info": {
   "codemirror_mode": {
    "name": "ipython",
    "version": 3
   },
   "file_extension": ".py",
   "mimetype": "text/x-python",
   "name": "python",
   "nbconvert_exporter": "python",
   "pygments_lexer": "ipython3",
   "version": "3.6.6"
  }
 },
 "nbformat": 4,
 "nbformat_minor": 2
}
