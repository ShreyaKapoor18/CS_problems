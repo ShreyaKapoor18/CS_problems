{
 "cells": [
  {
   "cell_type": "markdown",
   "metadata": {},
   "source": [
    "Central difference is a mathematical expression of the form f(x+h)−f(x−h)/\n",
    "2h, that for small values of h can approximate the derivative of f at point x.\n",
    "Central difference becomes very useful where analytical\n",
    "computation of f is very difficult or impossible."
   ]
  },
  {
   "cell_type": "code",
   "execution_count": 1,
   "metadata": {},
   "outputs": [],
   "source": [
    "def f(x):         #defining function f(x)\n",
    "    return (x*x)  #function which takes x as parameter and returns x^2"
   ]
  },
  {
   "cell_type": "markdown",
   "metadata": {},
   "source": [
    "a) Write a function that uses central difference formula to approximate the derivative of f = x^2 for\n",
    "input point x and step h."
   ]
  },
  {
   "cell_type": "code",
   "execution_count": 2,
   "metadata": {},
   "outputs": [],
   "source": [
    "def f_dot(x,h):                    #function for the derivative\n",
    "    a = ( f(x+h) - f(x-h) )/(2*h) #method of finite differences for derivative\n",
    "    return a"
   ]
  },
  {
   "cell_type": "markdown",
   "metadata": {},
   "source": [
    "b) Here deriving the analytical derivative of f is easy, i.e., f'(x) = 2x. Write a function that uses\n",
    "this formula for computing the derivative at point x."
   ]
  },
  {
   "cell_type": "code",
   "execution_count": 3,
   "metadata": {},
   "outputs": [],
   "source": [
    "def fdot_calc(x): \n",
    "    a= 2*x\n",
    "    return a "
   ]
  },
  {
   "cell_type": "markdown",
   "metadata": {},
   "source": [
    "c) Test the two functions above with different values of x and h. Does value of h play a role in the\n",
    "derivative approximation? Why?"
   ]
  },
  {
   "cell_type": "code",
   "execution_count": 4,
   "metadata": {},
   "outputs": [
    {
     "name": "stdout",
     "output_type": "stream",
     "text": [
      "Enter x 100\n",
      "Enter h or step size 0.1\n",
      "The value of f(x)=x**2 is  10000.0\n",
      "The calculated value of f'(x) via finite difference is  199.9999999999818\n",
      "The value of f'(x) via analytical method is 200.0\n",
      "Enter x 100\n",
      "Enter h or step size 0.01\n",
      "The value of f(x)=x**2 is  10000.0\n",
      "The calculated value of f'(x) via finite difference is  200.00000000009095\n",
      "The value of f'(x) via analytical method is 200.0\n",
      "Enter x 100\n",
      "Enter h or step size 0.001\n",
      "The value of f(x)=x**2 is  10000.0\n",
      "The calculated value of f'(x) via finite difference is  200.0000000007276\n",
      "The value of f'(x) via analytical method is 200.0\n"
     ]
    }
   ],
   "source": [
    "\n",
    "for i in range(3):                                                              #we want to check for three iterations \n",
    "    x = float(input('Enter x '))                                               #accepting input for x\n",
    "    h = float(input('Enter h or step size '))                                  #accepting input for h\n",
    "    print('The value of f(x)=x**2 is ',f(x))                                    # value of f(x)\n",
    "    print('The calculated value of f\\'(x) via finite difference is ',f_dot(x,h))# value of the derivative\n",
    "    print('The value of f\\'(x) via analytical method is',fdot_calc(x))"
   ]
  },
  {
   "cell_type": "markdown",
   "metadata": {},
   "source": [
    "<B> Answer: We are taking the case when computation of f'(x) difficult, i.e. in the case of large numbers. As the step size or h decreases, the approximation becomes more and more accurate. <br> Since there is a very small deviation from the actual value fo f(x) i.e. f(100.001) is closer to f(100) than f(100.01) is\n",
    "to f(100).</B> "
   ]
  },
  {
   "cell_type": "markdown",
   "metadata": {},
   "source": [
    "Excercise 2: \n",
    "Use the following paragraph \n",
    "\n",
    "\n",
    "“Python is a widely used high-level programming language. Python has a design philosophy that emphasizes\n",
    "code readability. Syntax of python allows programmers to express concepts in fewer lines of code.\n",
    "The language provides constructs intended to enable writing clear programs on both a small and large\n",
    "scale.”\n",
    "\n",
    "as input p for the following functions."
   ]
  },
  {
   "cell_type": "markdown",
   "metadata": {},
   "source": [
    "a) Write a function that gets paragraph p as input and returns the number of sentences in p. (2P)"
   ]
  },
  {
   "cell_type": "code",
   "execution_count": 5,
   "metadata": {},
   "outputs": [],
   "source": [
    "p = \"\"\"Python is a widely used high-level programming language. Python has a design philosophy that emphasizes\n",
    "code readability. Syntax of python allows programmers to express concepts in fewer lines of code.\n",
    "The language provides constructs intended to enable writing clear programs on both a small and large\n",
    "scale.\"\"\""
   ]
  },
  {
   "cell_type": "code",
   "execution_count": 6,
   "metadata": {},
   "outputs": [],
   "source": [
    "def count_p(p):   # function to count the number of sentences in para\n",
    "    count = 0     #counter variable \n",
    "    for charac in p: \n",
    "        if(charac =='.'): # if there is a full stop increase the counter\n",
    "            count+=1\n",
    "    return count #return the counter"
   ]
  },
  {
   "cell_type": "code",
   "execution_count": 7,
   "metadata": {},
   "outputs": [
    {
     "data": {
      "text/plain": [
       "4"
      ]
     },
     "execution_count": 7,
     "metadata": {},
     "output_type": "execute_result"
    }
   ],
   "source": [
    "count_p(p)"
   ]
  },
  {
   "cell_type": "markdown",
   "metadata": {},
   "source": [
    "b) Write a function that gets two input parameters, p and k, and checks if word k exists in p, and\n",
    "returns k+“ is in the paragraph.” if it does, and k+“ is not in the paragraph.” if it doesn’t. Use\n",
    "k = language and k = exclude to test your function.(3P)"
   ]
  },
  {
   "cell_type": "code",
   "execution_count": 8,
   "metadata": {},
   "outputs": [],
   "source": [
    "def exist(p,k):  # function to check the existence in the paragraph\n",
    "    if(k in p): \n",
    "        return (k + \" is in the paragraph\") \n",
    "    else: \n",
    "        return (k + \" is not in the paragraph\")"
   ]
  },
  {
   "cell_type": "code",
   "execution_count": 9,
   "metadata": {},
   "outputs": [
    {
     "data": {
      "text/plain": [
       "'language is in the paragraph'"
      ]
     },
     "execution_count": 9,
     "metadata": {},
     "output_type": "execute_result"
    }
   ],
   "source": [
    "k= 'language'\n",
    "exist(p,k)"
   ]
  },
  {
   "cell_type": "code",
   "execution_count": 10,
   "metadata": {},
   "outputs": [
    {
     "data": {
      "text/plain": [
       "'exclude is not in the paragraph'"
      ]
     },
     "execution_count": 10,
     "metadata": {},
     "output_type": "execute_result"
    }
   ],
   "source": [
    "k = 'exclude'\n",
    "exist(p,k)"
   ]
  },
  {
   "cell_type": "markdown",
   "metadata": {},
   "source": [
    "c) Write a function that gets p, where p is a string , as input to automatically remove the last\n",
    "sentence from p and return the result."
   ]
  },
  {
   "cell_type": "code",
   "execution_count": 11,
   "metadata": {},
   "outputs": [],
   "source": [
    "def remove(p):              #function to remove the last sentence of the paragraph\n",
    "    total = count_p(p)      # counting the total number of sentences\n",
    "    count=0                 # counter variable to see the sentence no. reached \n",
    "    for i in range(len(p)): # iterate over all letters in p \n",
    "        if( p[i] == '.'):   # check for a full stop \n",
    "            count+=1        # increment whenever a full-stop encountered\n",
    "        if( count == (total-1)): \n",
    "            pl=i            # if count is one less than total, means last sentence begins\n",
    "            break\n",
    "    p=p[:pl+1]              # we want to print from starting of para to end of second last sentence\n",
    "    return p"
   ]
  },
  {
   "cell_type": "code",
   "execution_count": 12,
   "metadata": {},
   "outputs": [
    {
     "data": {
      "text/plain": [
       "'Python is a widely used high-level programming language. Python has a design philosophy that emphasizes\\ncode readability. Syntax of python allows programmers to express concepts in fewer lines of code.'"
      ]
     },
     "execution_count": 12,
     "metadata": {},
     "output_type": "execute_result"
    }
   ],
   "source": [
    "remove(p)"
   ]
  },
  {
   "cell_type": "markdown",
   "metadata": {},
   "source": [
    "Exercise 3 (Body-Mass-Index, 10 Points)"
   ]
  },
  {
   "cell_type": "markdown",
   "metadata": {},
   "source": [
    "Body-Mass-Index (BMI) of a person is measured by w/(h <sup>2</sup>)\n",
    ", where w is the weight in kilograms and h is\n",
    "the height in meter."
   ]
  },
  {
   "cell_type": "markdown",
   "metadata": {},
   "source": [
    "a) Define bmi(h, m) function that gets two input parameters and computes the BMI formula and\n",
    "returns the result. (3P) Use bmi(h, m) to compute the BMI for the following data-set. (1P) <br> \n",
    "<li>  height 1.74 m, weight 75 kg, male  \n",
    "<li>  height 1.85 m, weight 49 kg, male \n",
    "<li>  height 1.71 m, weight 128 kg, female"
   ]
  },
  {
   "cell_type": "code",
   "execution_count": 13,
   "metadata": {},
   "outputs": [],
   "source": [
    "def bmi(h,m):  #function definition \n",
    "    bm = m/(h**2)\n",
    "    return bm "
   ]
  },
  {
   "cell_type": "code",
   "execution_count": 14,
   "metadata": {},
   "outputs": [
    {
     "name": "stdout",
     "output_type": "stream",
     "text": [
      "Enter the height(in m) 1.74\n",
      "Enter the weight (in kg) 75\n",
      "Enter the gender of the subject male\n",
      "Enter the height(in m) 1.85\n",
      "Enter the weight (in kg) 49\n",
      "Enter the gender of the subject male\n",
      "Enter the height(in m) 1.71\n",
      "Enter the weight (in kg) 128\n",
      "Enter the gender of the subject female\n"
     ]
    }
   ],
   "source": [
    "h = []      #list for storing heights\n",
    "m = []      #list for storing weights\n",
    "gender = [] #list for storing genders\n",
    "for i in range(3): \n",
    "    h.append(float( input ('Enter the height(in m) ') ) )\n",
    "    m.append(float( input  ('Enter the weight (in kg) ') ) )\n",
    "    gender.append( input ('Enter the gender of the subject ') )"
   ]
  },
  {
   "cell_type": "code",
   "execution_count": 15,
   "metadata": {},
   "outputs": [
    {
     "name": "stdout",
     "output_type": "stream",
     "text": [
      "bmi of subject  1  is 24.772096710265558\n",
      "bmi of subject  2  is 14.317019722425126\n",
      "bmi of subject  3  is 43.774152730754764\n"
     ]
    }
   ],
   "source": [
    "for i in range(3):  # printing the computed bmi's\n",
    "    print (\"bmi of subject \", i+1, \" is\",bmi(h[i],m[i]))"
   ]
  },
  {
   "cell_type": "markdown",
   "metadata": {},
   "source": [
    "b) Define condition(h, m, g) function that, in addition to height h and weight m, gets gender g as\n",
    "input and uses the information provided in the following table to return the condition of a person\n",
    "by calculating his/her BMI. Try to call the bmi(h, m) for BMI calculation"
   ]
  },
  {
   "cell_type": "code",
   "execution_count": 16,
   "metadata": {},
   "outputs": [],
   "source": [
    "def condition(h,m,g): \n",
    "    bm=bmi(h,m)\n",
    "    if( g.lower() == 'female'): \n",
    "        if( bm < 17.5 ): \n",
    "            print ('Female with ', h ,' Height ', m , ' Weight ' + ' has anorexia' )\n",
    "        elif( bm < 19.1 ): \n",
    "            print ('Female with ',h , ' Height ', m , ' Weight ' + ' is underweight' )\n",
    "        elif ( bm >= 19.1 and bm <= 25.8 ): \n",
    "            print ('Female with ', h , ' Height ', m , ' Weight ' + ' is in normal range' )\n",
    "        elif ( bm >= 27.3 and bm <= 32.3 ):    \n",
    "            print ('Female with ', h , ' Height ', m , ' Weight ' + ' is overweight' )\n",
    "        elif ( bm >= 35 and bm <= 40) :  \n",
    "            print ('Female with ', h , ' Height ', m , ' Weight ' + ' is severely obsese' )\n",
    "        else: \n",
    "            print (' Condition not found for ''Female with ', h , ' Height ', m , ' Weight ')\n",
    "    if( g.lower() == 'male'): \n",
    "        if( bm < 17.5 ): \n",
    "            print ('Male with ', h , ' Height ', m , ' Weight ' + ' has anorexia' )\n",
    "        elif( bm < 20.7 ): \n",
    "            print ('Male with ', h , 'Height ', m , ' Weight ' + ' is underweight' )\n",
    "        elif ( bm >= 20.7 and bm <= 26.4 ): \n",
    "            print ('Male with ', h ,' Height ', m , ' Weight ' + ' is in normal range' )\n",
    "        elif ( bm >= 27.8 and bm <= 31.1 ):    \n",
    "            print ('Male with ', h , ' Height ', m , ' Weight ' + ' is overweight' )\n",
    "        elif ( bm >= 35 and bm <= 40) :  \n",
    "            print ('Male with ', h , ' Height ', m , ' Weight ' + ' is severely obsese' )\n",
    "        else: \n",
    "            print ('Condition not found')\n",
    "    elif( g.lower()!='female' and g.lower()!='male'): \n",
    "            print ('Gender not found')\n",
    "    \n",
    "    "
   ]
  },
  {
   "cell_type": "code",
   "execution_count": 17,
   "metadata": {},
   "outputs": [
    {
     "name": "stdout",
     "output_type": "stream",
     "text": [
      "Male with  1.74  Height  75.0  Weight  is in normal range\n",
      "Male with  1.85  Height  49.0  Weight  has anorexia\n",
      " Condition not found for Female with  1.71  Height  128.0  Weight \n"
     ]
    }
   ],
   "source": [
    "for i in range(3): \n",
    "    condition(h[i],m[i],gender[i])\n",
    "    "
   ]
  },
  {
   "cell_type": "code",
   "execution_count": null,
   "metadata": {},
   "outputs": [],
   "source": []
  }
 ],
 "metadata": {
  "kernelspec": {
   "display_name": "Python 3",
   "language": "python",
   "name": "python3"
  },
  "language_info": {
   "codemirror_mode": {
    "name": "ipython",
    "version": 3
   },
   "file_extension": ".py",
   "mimetype": "text/x-python",
   "name": "python",
   "nbconvert_exporter": "python",
   "pygments_lexer": "ipython3",
   "version": "3.7.5"
  }
 },
 "nbformat": 4,
 "nbformat_minor": 2
}
