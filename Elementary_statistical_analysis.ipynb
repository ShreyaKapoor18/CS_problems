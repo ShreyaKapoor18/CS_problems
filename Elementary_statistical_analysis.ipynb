{
 "cells": [
  {
   "cell_type": "markdown",
   "metadata": {},
   "source": [
    "<b> (Statistical Data Analysis)"
   ]
  },
  {
   "cell_type": "markdown",
   "metadata": {},
   "source": [
    "a) Define the table above using a dictionary variable with the studentID as its keys. Each key should have a list or a tuple of size 3, that contains the grade, studyHrs and timeSpentOnSocialMedia of the corresponding student respectively. "
   ]
  },
  {
   "cell_type": "code",
   "execution_count": 1,
   "metadata": {},
   "outputs": [],
   "source": [
    "# Define the dictionary \n",
    "\n",
    "Student = {\n",
    "    1 : [2.7,2.5,4.5], 2 : [3.6,1.0,7.0], \n",
    "    3 : [1.2,5.0,4.0], 4: [1.0,7.0,5.0], \n",
    "    5 : [2.3,3.5,4.0], 6: [4.0,0.5,8.0], \n",
    "    7 : [2.5,3.0,6.5]   \n",
    "} \n"
   ]
  },
  {
   "cell_type": "markdown",
   "metadata": {},
   "source": [
    "b) Write function get values(d,i), that returns a list of all values for a given index i in the defined dictionary d in part a). For example, for index 0 the function must return a list that contains the values of the grade column in the table. For index 1 and 2 it must return the values in studyHrs and timeSpentOnSocialMedia columns respectively. "
   ]
  },
  {
   "cell_type": "code",
   "execution_count": 2,
   "metadata": {},
   "outputs": [],
   "source": [
    "def get_values(d,i): \n",
    "    l = []\n",
    "    for key in d : \n",
    "        l.append(d[key][i])\n",
    "    return  l"
   ]
  },
  {
   "cell_type": "markdown",
   "metadata": {},
   "source": [
    "c) Compute the range of each column of the table by defining a function that computes R = xmax − xmin ."
   ]
  },
  {
   "cell_type": "code",
   "execution_count": 3,
   "metadata": {},
   "outputs": [],
   "source": [
    "def R(x): \n",
    "    return (max(x)-min(x))"
   ]
  },
  {
   "cell_type": "markdown",
   "metadata": {},
   "source": [
    "d) Write a function to compute the mean of a list of data, and use it to compute the mean of each of the given columns. "
   ]
  },
  {
   "cell_type": "code",
   "execution_count": 4,
   "metadata": {},
   "outputs": [],
   "source": [
    "def mean(l): \n",
    "    mean = sum(l)/(len(l))\n",
    "    return mean "
   ]
  },
  {
   "cell_type": "markdown",
   "metadata": {},
   "source": [
    "e) Write a function to compute the standard deviation using the mean function in part d). "
   ]
  },
  {
   "cell_type": "code",
   "execution_count": 5,
   "metadata": {},
   "outputs": [],
   "source": [
    "def std_dev(l): \n",
    "    sq = 0\n",
    "    m = mean(l)\n",
    "    n = len(l)\n",
    "    for i in range(len(l)) : \n",
    "        sq += (l[i]-m)**2\n",
    "    sq = sq/n \n",
    "    st = sq**0.5\n",
    "    return st\n",
    "        "
   ]
  },
  {
   "cell_type": "markdown",
   "metadata": {},
   "source": [
    "f) The Pearson correlation coefficient is used to measure the strength of a linear association between two variables, where the value r = 1 means a perfect positive correlation and the value r = -1 means a perfect negative correlation. Write a function to compute Pearson correlation between two input lists x and y using the following formula."
   ]
  },
  {
   "cell_type": "code",
   "execution_count": 6,
   "metadata": {},
   "outputs": [],
   "source": [
    "def correlation_coeff(x,y):\n",
    "    xb = mean (x)\n",
    "    yb = mean (y)\n",
    "    sx = std_dev(x)\n",
    "    sy = std_dev(y)\n",
    "    r = 0\n",
    "    if (len(x) == len(y)):\n",
    "        for i in range(len(x)):\n",
    "            r += (x[i]-xb)*(y[i]-yb)\n",
    "    r = r/(len(x)*sx*sy)\n",
    "    return r"
   ]
  },
  {
   "cell_type": "code",
   "execution_count": 7,
   "metadata": {},
   "outputs": [
    {
     "name": "stdout",
     "output_type": "stream",
     "text": [
      "The column is Student Grades \n",
      "\n",
      "The list is:  [2.7, 3.6, 1.2, 1.0, 2.3, 4.0, 2.5]\n",
      "The range is: 3.00\n",
      "The mean value is: 2.47\n",
      "The standard deviation is: 1.03\n",
      " \n",
      "The column is studyHrs \n",
      "\n",
      "The list is:  [2.5, 1.0, 5.0, 7.0, 3.5, 0.5, 3.0]\n",
      "The range is: 6.50\n",
      "The mean value is: 3.21\n",
      "The standard deviation is: 2.08\n",
      " \n",
      "The column is timeSpentOnSocialMedia \n",
      "\n",
      "The list is:  [4.5, 7.0, 4.0, 5.0, 4.0, 8.0, 6.5]\n",
      "The range is: 4.00\n",
      "The mean value is: 5.57\n",
      "The standard deviation is: 1.47\n",
      " \n"
     ]
    }
   ],
   "source": [
    "for i in range(3): \n",
    "    x = get_values(Student,i)\n",
    "    if (i==0): \n",
    "        print ('The column is Student Grades \\n')\n",
    "    elif(i==1): \n",
    "         print ('The column is studyHrs \\n')\n",
    "    else: \n",
    "         print ('The column is timeSpentOnSocialMedia \\n')\n",
    "    print ('The list is: ', x)\n",
    "    print ('The range is: {0:.2f}'.format(R(x)) )\n",
    "    print ('The mean value is: {0:.2f}'.format(mean(x)))\n",
    "    print ('The standard deviation is: {0:.2f}\\n '.format(std_dev(x))) \n",
    "    "
   ]
  },
  {
   "cell_type": "code",
   "execution_count": 8,
   "metadata": {},
   "outputs": [
    {
     "name": "stdout",
     "output_type": "stream",
     "text": [
      "The Pearson's correlation Coeff of grades and studyHrs is:-0.98\n",
      "The Pearson's correlation Coeff of grades and timeSpentonSocialMedia is: 0.77\n"
     ]
    }
   ],
   "source": [
    "r = []\n",
    "i = 0\n",
    "for j in range(1,3):\n",
    "        if (i!=j): \n",
    "            x = get_values(Student,i)\n",
    "            y = get_values (Student,j)\n",
    "            r1 = correlation_coeff(x,y) \n",
    "            if(j==1): \n",
    "                print (\"The Pearson\\'s correlation Coeff of grades and studyHrs is:{0:0.2f}\".format(r1))\n",
    "            if (j==2): \n",
    "                print (\"The Pearson\\'s correlation Coeff of grades and timeSpentonSocialMedia is: {0:0.2f}\".format(r1))\n",
    "            r.append(r1)\n",
    "            \n",
    "            "
   ]
  },
  {
   "cell_type": "markdown",
   "metadata": {},
   "source": [
    "Use your function to find the variable that correlates with the student grades the most. "
   ]
  },
  {
   "cell_type": "code",
   "execution_count": 9,
   "metadata": {},
   "outputs": [
    {
     "name": "stdout",
     "output_type": "stream",
     "text": [
      "The column at index  0 correlated with grades the most\n",
      "It is studyHrs with positive correlation 0.9752201847616595\n",
      "Now the signs of the correlation have changed because in German system 1.0 is highest and 4.0 is lowest\n"
     ]
    }
   ],
   "source": [
    "r = [-1*i for i in r]  # since in the German system 1.0 is the best grade we need to flip hence. \n",
    "\n",
    "r = [abs(i) for i in r] #taking absolute values\n",
    "pos = r.index(max(r)) # position is the index of the column which has maximum (positive)correlation with student grades.   \n",
    "print ('The column at index ',pos, 'correlated with grades the most')\n",
    "if(pos==0): \n",
    "    print ('It is studyHrs', end =' ',flush = True)\n",
    "    if(r[pos]<0): \n",
    "        print ('with negative correlation', r[pos]) \n",
    "    else: \n",
    "        print ('with positive correlation', r[pos])  \n",
    "if(pos==1): \n",
    "    print ('It is timeSpentonSocialMedia', end =' ',flush = True)\n",
    "    if(r[pos]<0): \n",
    "        print ('with negative correlation', r[pos]) \n",
    "    else: \n",
    "        print ('with positive correlation', r[pos])  \n",
    "print ('Now the signs of the correlation have changed because in German system 1.0 is highest and 4.0 is lowest')"
   ]
  },
  {
   "cell_type": "markdown",
   "metadata": {},
   "source": [
    "<b> Exercise 2 (Recursion)"
   ]
  },
  {
   "cell_type": "markdown",
   "metadata": {},
   "source": [
    "def recurse(n,s): <br> \n",
    "    return s if n==0 else recurse(n-1,n+s) <br> \n",
    "a) What does the recurse(n, s) function compute? <br> \n",
    "<b>Ans: The sum of the two elements "
   ]
  },
  {
   "cell_type": "code",
   "execution_count": 10,
   "metadata": {},
   "outputs": [],
   "source": [
    "def recurse(n,s):  \n",
    "    return s if n==0 else recurse(n-1,n+s)"
   ]
  },
  {
   "cell_type": "code",
   "execution_count": 11,
   "metadata": {},
   "outputs": [
    {
     "data": {
      "text/plain": [
       "(3, 6, 39)"
      ]
     },
     "execution_count": 11,
     "metadata": {},
     "output_type": "execute_result"
    }
   ],
   "source": [
    "recurse(1,2), recurse(2,3), recurse(7,11)"
   ]
  },
  {
   "cell_type": "markdown",
   "metadata": {},
   "source": [
    "b) What would happen if you call this function like recurse(−1, 0)? (2P)\n"
   ]
  },
  {
   "cell_type": "markdown",
   "metadata": {},
   "source": [
    "<b> Ans: if you call the functions with the given parameters then it runs into an infinite loop and this exceeds the maximum recursion depth. <br> \n",
    "When we call the function (-1,0) <br> \n",
    "n!=0 implies that recurse (-1-1,-1+0) or recurse(-2,-1) <br> \n",
    "then again n!=0 it recurses to (-2-1,-2+-1) or recurse (-3,-3) <br> \n",
    "then again n!=0 it recurses to (-3-1,-3-3) or recurse(-4,-6)<br> \n",
    "then again n!=0 it recurses to (-4-1,-4-6) or recurse(-5,-10)<br>\n",
    "and this keeps going on as n never gets to 0\n",
    " "
   ]
  },
  {
   "cell_type": "markdown",
   "metadata": {},
   "source": [
    "Write a recursive function to compute the result of polynomial p(x) = a0 + a1x + a2x2 + ... + anxn for given polynomial p, that is defined as a list of coefficients of p, i.e., p = [a0,a1,...,an], and x as input"
   ]
  },
  {
   "cell_type": "code",
   "execution_count": 12,
   "metadata": {},
   "outputs": [
    {
     "name": "stdout",
     "output_type": "stream",
     "text": [
      "enter the list (each element to be separated by commas) (without any brackets) : 1,2,4,5\n",
      "Enter x: 3\n"
     ]
    }
   ],
   "source": [
    "p = input('enter the list (each element to be separated by commas) (without any brackets) : ')\n",
    "p = p.split(',') \n",
    "p = [float(i) for i in p] \n",
    "x = float (input('Enter x: '))"
   ]
  },
  {
   "cell_type": "code",
   "execution_count": 13,
   "metadata": {},
   "outputs": [],
   "source": [
    "def recurse_2(p,x,n):\n",
    "    return p[0] if n==0 else (p[n]*(x**(n))+ recurse_2(p,x,n-1))"
   ]
  },
  {
   "cell_type": "code",
   "execution_count": 14,
   "metadata": {},
   "outputs": [
    {
     "name": "stdout",
     "output_type": "stream",
     "text": [
      "The polynomial is of the form\n",
      "1.0 + 2.0 *(  3.0 ** 1) + 4.0 *(  3.0 ** 2) + 5.0 *(  3.0 ** 3) \n",
      "a0 + a 1 (x** 1) + a 2 (x** 2) + a 3 (x** 3) \n",
      "178.0  is the result of addition formula\n"
     ]
    }
   ],
   "source": [
    "n = int(len(p)-1)\n",
    "\"\"\"we have taken this as n-1 because the polynomial order is the order \n",
    "of the list-1 i.e. if you enter four coefficients it is a0 + a1*x +a2*(x**2)+a3*(x**3)\"\"\"\n",
    "print ('The polynomial is of the form')\n",
    "for i in range(len (p)): \n",
    "    if(i ==0): \n",
    "        print (p[0], end =' ', flush= True)\n",
    "    else:\n",
    "        print ('+', p[i],'*( ', x,'**',i,end =') ',flush=True)\n",
    "print ('')\n",
    "for i in range(len (p)): \n",
    "    if(i ==0): \n",
    "        print ('a0', end =' ', flush= True)\n",
    "    else:\n",
    "        print ('+ a',i, '(x**',i,end =') ',flush=True)\n",
    "print ('')      \n",
    "\n",
    "print (recurse_2(p,x,n), ' is the result of addition formula') "
   ]
  },
  {
   "cell_type": "code",
   "execution_count": null,
   "metadata": {},
   "outputs": [],
   "source": []
  }
 ],
 "metadata": {
  "kernelspec": {
   "display_name": "Python 3",
   "language": "python",
   "name": "python3"
  },
  "language_info": {
   "codemirror_mode": {
    "name": "ipython",
    "version": 3
   },
   "file_extension": ".py",
   "mimetype": "text/x-python",
   "name": "python",
   "nbconvert_exporter": "python",
   "pygments_lexer": "ipython3",
   "version": "3.7.5"
  }
 },
 "nbformat": 4,
 "nbformat_minor": 2
}
