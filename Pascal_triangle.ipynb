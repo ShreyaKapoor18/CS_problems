{
 "cells": [
  {
   "cell_type": "markdown",
   "metadata": {},
   "source": [
    "<b> <H1> Excercise 1 </H1> <br> \n",
    "    <H2> Pascal's Triangles </H2>\n",
    "    "
   ]
  },
  {
   "cell_type": "markdown",
   "metadata": {},
   "source": [
    "\n",
    "In mathematics, Pascal’s triangle is a triangular array of the binomial coefficients. The rows of Pascal’s triangle are conventionally enumerated starting with row n = 0 at the top. The entries in each row are numbered from the left beginning with k = 0 and are usually staggered relative to the numbers in the adjacent rows. The triangle may be constructed in the following manner: In row 0, there is a unique nonzero entry 1. Each entry of each subsequent row is constructed by adding the number above and to the left with the number above and to the right, treating blank entries as 0. For example, the initial number in the first (or any other) row is 1 (the sum of 0 and 1), whereas the numbers 1 and 3 in the third row are added to produce the number 4 in the fourth row.\n"
   ]
  },
  {
   "cell_type": "markdown",
   "metadata": {},
   "source": [
    "• Write a function that prints Pascal’s triangle to a file. Don’t use library functions to calculate the coefficients, but do it manually. The function should take the name of the output file and the number of lines to print as parameters. Validate the requested number of lines and raise an exception if necessary.  <br> \n",
    "• Use proper formatting, so that the output looks like an isosceles triangle, as shown above. Please provide the output file for the first 14 lines of Pascal’s triangle. <br>"
   ]
  },
  {
   "cell_type": "code",
   "execution_count": 1,
   "metadata": {},
   "outputs": [],
   "source": [
    "def generate_tri(outputfile,n): \n",
    "    if(n>0 and n==int(n)): \n",
    "        f = open(outputfile, 'w')\n",
    "        k = 2*n if n%2==0 else 2*n-1 \n",
    "        a = []\n",
    "        a [:k] = '0'*(k)\n",
    "        a[(k)//2] = 1\n",
    "        a = list(map(int,a)) \n",
    "        c = []\n",
    "        c.append(a)\n",
    "        for j in range(1, n): #since we have already seen the first row initialised\n",
    "            #empty matrix of each row, initialisation!\n",
    "            b = []  \n",
    "            # make first k lements a 0\n",
    "            b[:k] = '0'*(k)\n",
    "            # make all these into integers\n",
    "            b = list(map(int,b))\n",
    "            for i in range(k):\n",
    "                    # for case at extreme left\n",
    "                    if(i==0): \n",
    "                        b[i] = a [i+1]\n",
    "                    # for case at extreme right!\n",
    "                    if(i==k-1):\n",
    "                        b [i] = a[i-1]\n",
    "                    # for others in the middle!\n",
    "                    elif(i<=k-1 and i>0): \n",
    "                        b[i] = a[i+1]+a [i-1]\n",
    "            # append the row matrix to the final matrix\n",
    "            c.append(b)\n",
    "            # this b is the a for the next row!\n",
    "            a = b\n",
    "        # for formatting the output and writing it to the file!\n",
    "        for i in range(len(c)): \n",
    "            c[i] = ['{0:^4}'.format(item) if item!=0 else '    ' for item in c[i]]   \n",
    "            f.write(\"\".join(c[i])+'\\n') #format using the .format method\n",
    "    else: \n",
    "        raise Exception('You entered a negative or a float number')"
   ]
  },
  {
   "cell_type": "code",
   "execution_count": 2,
   "metadata": {},
   "outputs": [],
   "source": [
    "# store the output to a file name output.txt\n",
    "generate_tri('output.txt',14)"
   ]
  },
  {
   "cell_type": "code",
   "execution_count": 3,
   "metadata": {},
   "outputs": [
    {
     "ename": "Exception",
     "evalue": "You entered a negative or a float number",
     "output_type": "error",
     "traceback": [
      "\u001b[0;31m---------------------------------------------------------------------------\u001b[0m",
      "\u001b[0;31mException\u001b[0m                                 Traceback (most recent call last)",
      "\u001b[0;32m<ipython-input-3-c43d8a875c98>\u001b[0m in \u001b[0;36m<module>\u001b[0;34m\u001b[0m\n\u001b[1;32m      1\u001b[0m \u001b[0;31m# exception is raised when a negative number is entered!\u001b[0m\u001b[0;34m\u001b[0m\u001b[0;34m\u001b[0m\u001b[0m\n\u001b[0;32m----> 2\u001b[0;31m \u001b[0mgenerate_tri\u001b[0m\u001b[0;34m(\u001b[0m\u001b[0;34m'output.txt'\u001b[0m\u001b[0;34m,\u001b[0m\u001b[0;34m-\u001b[0m\u001b[0;36m1\u001b[0m\u001b[0;34m)\u001b[0m\u001b[0;34m\u001b[0m\u001b[0m\n\u001b[0m",
      "\u001b[0;32m<ipython-input-1-bf1d624abad3>\u001b[0m in \u001b[0;36mgenerate_tri\u001b[0;34m(outputfile, n)\u001b[0m\n\u001b[1;32m     35\u001b[0m             \u001b[0mf\u001b[0m\u001b[0;34m.\u001b[0m\u001b[0mwrite\u001b[0m\u001b[0;34m(\u001b[0m\u001b[0;34m\"\"\u001b[0m\u001b[0;34m.\u001b[0m\u001b[0mjoin\u001b[0m\u001b[0;34m(\u001b[0m\u001b[0mc\u001b[0m\u001b[0;34m[\u001b[0m\u001b[0mi\u001b[0m\u001b[0;34m]\u001b[0m\u001b[0;34m)\u001b[0m\u001b[0;34m+\u001b[0m\u001b[0;34m'\\n'\u001b[0m\u001b[0;34m)\u001b[0m \u001b[0;31m#format using the .format method\u001b[0m\u001b[0;34m\u001b[0m\u001b[0m\n\u001b[1;32m     36\u001b[0m     \u001b[0;32melse\u001b[0m\u001b[0;34m:\u001b[0m\u001b[0;34m\u001b[0m\u001b[0m\n\u001b[0;32m---> 37\u001b[0;31m         \u001b[0;32mraise\u001b[0m \u001b[0mException\u001b[0m\u001b[0;34m(\u001b[0m\u001b[0;34m'You entered a negative or a float number'\u001b[0m\u001b[0;34m)\u001b[0m\u001b[0;34m\u001b[0m\u001b[0m\n\u001b[0m",
      "\u001b[0;31mException\u001b[0m: You entered a negative or a float number"
     ]
    }
   ],
   "source": [
    "# exception is raised when a negative number is entered!\n",
    "generate_tri('output.txt',-1)"
   ]
  },
  {
   "cell_type": "markdown",
   "metadata": {},
   "source": [
    "r.append('{:^a{width}}'.format(i,width=maxlen))"
   ]
  },
  {
   "cell_type": "markdown",
   "metadata": {},
   "source": [
    "def pascal_ls(lines):\n",
    "    \n",
    "    "
   ]
  },
  {
   "cell_type": "markdown",
   "metadata": {},
   "source": [
    "<b> <H1> Excercise 2 </H1> <br> \n",
    "    <H2> Factorising Integers </H2>"
   ]
  },
  {
   "cell_type": "markdown",
   "metadata": {},
   "source": [
    "• The sieve of Eratosthenes is a simple and efficient algorithm to find prime numbers. Write a\n",
    "function that uses this approach to return a list of all prime numbers up to a given number. "
   ]
  },
  {
   "cell_type": "code",
   "execution_count": 4,
   "metadata": {},
   "outputs": [],
   "source": [
    "def sieve(n): \n",
    "    if (n>0): \n",
    "        #to return the list of prime numbers upto a number\n",
    "        primes = []\n",
    "        # we make different lists of primes and composites!\n",
    "        composites = [] \n",
    "        # we anyway will check for numbers greater than 2, for less than that we don't \n",
    "        # need a list anyway!\n",
    "        if(n>=2): \n",
    "            primes.append(2)\n",
    "        # after 2, the next number is 3\n",
    "        small = 3 \n",
    "        # we need to iterate only when the square of the small < n \n",
    "        while(small**2<n): \n",
    "            for i in range(2*small, n+1, small): \n",
    "                        # within this interval there are all composites\n",
    "                        composites.append(i)\n",
    "            # we iterate through only odd nos. because 2 is the only even prime (addition of 2)\n",
    "            small+=2\n",
    "        # again just cheking which of the odd nos. are prime!    \n",
    "        for i in range(3,n+1,2): \n",
    "            if i not in composites: \n",
    "                # if they are not in the list of composite nos. they are prime!\n",
    "                primes.append(i)\n",
    "        return primes\n",
    "    else: \n",
    "        raise Exception('you entered a negative value!')"
   ]
  },
  {
   "cell_type": "code",
   "execution_count": 5,
   "metadata": {},
   "outputs": [
    {
     "name": "stdout",
     "output_type": "stream",
     "text": [
      "[2, 3, 5, 7, 11, 13, 17, 19, 23, 29]\n",
      "[2, 3, 5, 7, 11, 13, 17, 19, 23, 29, 31, 37, 41, 43, 47, 53]\n"
     ]
    }
   ],
   "source": [
    "k = [30,55]\n",
    "for i in k: \n",
    "    print (sieve(i))"
   ]
  },
  {
   "cell_type": "code",
   "execution_count": 6,
   "metadata": {},
   "outputs": [],
   "source": [
    "def trial_2(n): \n",
    "    # taking an empty list for the factors!\n",
    "    fact1 = []  \n",
    "    # for appending the whole list with a factor multiples of times!\n",
    "    fact2 = []   \n",
    "    if n>= 10**6: \n",
    "        # in order to make the algorithm faster we will first test with n^(0.25)\n",
    "        n2 = int (n**(0.25)) \n",
    "    elif n >= 10**4:\n",
    "        # 10**4 is still not too big a number to run till loops and find lists to sqrt n \n",
    "        n2 = int (n**(0.5)) \n",
    "    else: \n",
    "        # taking this into account, the list upto this number is still computable!\n",
    "        n2 = n  \n",
    "    # we take the list upto the number n2!\n",
    "    d = sieve(n2) \n",
    "    # loop through the list to see if there are prime numbers till n2 which n is divisible by\n",
    "    for i in d: \n",
    "            if (n%i==0): \n",
    "                    fact1.append(i)  \n",
    "    #now that we have a list of factors we are checking the occurence of these factors!\n",
    "    # i.e. we are checking the number of times a given no. n is divisible by that prime no.\n",
    "    for i in fact1: \n",
    "            while (n%i==0): \n",
    "                fact2.append(i)\n",
    "                n = n/i \n",
    "    #just in case that even after all the division there is still a composite number left \n",
    "    #we loop from 2 to the square root of the changed n to hadnle case specifics\n",
    "    #sometimes in a large numbers (>10**6) all the prime factors might not have been \n",
    "    #iterated upon, so whatever is left after changing the n, we still check if the new n \n",
    "    #so obtained is prime or not.  This is just segmenting the loop so that the iteration of       #the for loop keeps running!\"\"\"\n",
    "    for i in range(2, int(n**(0.5))): \n",
    "            if (n%i==0): \n",
    "                fact2.append(i)\n",
    "                n = n/i\n",
    "    if(n>1):   \n",
    "         fact2.append(n)\n",
    "                \n",
    "    return fact2"
   ]
  },
  {
   "cell_type": "code",
   "execution_count": 7,
   "metadata": {},
   "outputs": [],
   "source": [
    "def trial_2(n): \n",
    "    # taking an empty list for the factors!\n",
    "    fact1 = []  \n",
    "    # for appending the whole list with a factor multiples of times!\n",
    "    fact2 = []   \n",
    "    if n>= 10**6: \n",
    "        # in order to make the algorithm faster we will first test with n^(0.25)\n",
    "        n2 = int (n**(0.25)) \n",
    "    elif n >= 10**4:\n",
    "        # 10**4 is still not too big a number to run till loops and find lists to sqrt n \n",
    "        n2 = int (n**(0.5)) \n",
    "    else: \n",
    "        # taking this into account, the list upto this number is still computable!\n",
    "        n2 = n  \n",
    "    # we take the list upto the number n2!\n",
    "    d = sieve(n2) \n",
    "    # loop through the list to see if there are prime numbers till n2 which n is divisible by\n",
    "    for i in d: \n",
    "            if (n%i==0): \n",
    "                    fact1.append(i)  \n",
    "    #now that we have a list of factors we are checking the occurence of these factors!\n",
    "    # i.e. we are checking the number of times a given no. n is divisible by that prime no.\n",
    "    for i in fact1: \n",
    "            while (n%i==0): \n",
    "                fact2.append(i)\n",
    "                n = n/i \n",
    "    #just in case that even after all the division there is still a composite number left \n",
    "    #we loop from 2 to the square root of the changed n to hadnle case specifics\n",
    "    #sometimes in a large numbers (>10**6) all the prime factors might not have been \n",
    "    #iterated upon, so whatever is left after changing the n, we still check if the new n \n",
    "    #so obtained is prime or not.  This is just segmenting the loop so that the iteration of       #the for loop keeps running!\"\"\"\n",
    "    for i in range(2, int(n**(0.5))): \n",
    "            if (n%i==0): \n",
    "                fact2.append(i)\n",
    "                n = n/i\n",
    "    \n",
    "    #whatever is left could still be prime!\n",
    "    if(n>1):   \n",
    "         fact2.append(n)\n",
    "                \n",
    "    return fact2"
   ]
  },
  {
   "cell_type": "markdown",
   "metadata": {},
   "source": [
    "Try this again"
   ]
  },
  {
   "cell_type": "markdown",
   "metadata": {},
   "source": [
    "• Write a function that breaks an integer into its prime factor powers by using the list from the previous subtask, and trial division. The input should be a positive integer, the output a dictionary of prime factors and their powers. Example: f actorize(12) should return 2 : 2, 3 : 1 and the output of factorize(13) should be 13 : 1. Please provide the outputs for the following inputs: 4, 1001, 1231, 123 259, 12 345 577, 1 234 567 811, 112 233 445 589, 11 223 344 556 607, 198 473 094, 13 918 452 024 and 32 574 985 749 857. "
   ]
  },
  {
   "cell_type": "code",
   "execution_count": 8,
   "metadata": {},
   "outputs": [],
   "source": [
    "def factorize (n):\n",
    "    a = trial_2(n)\n",
    "    # in order to get a unique set of values!\n",
    "    keys = set(a)\n",
    "    # the values are the counts of the no. of times a key occurs in the list!\n",
    "    values = [ a.count(key) for key in keys]\n",
    "    # making a dictionary of keys mapped to values!\n",
    "    dict1 = {int(key):value for key,value in zip(keys,values)}\n",
    "    return dict1"
   ]
  },
  {
   "cell_type": "code",
   "execution_count": 9,
   "metadata": {},
   "outputs": [],
   "source": [
    "# list of all inputs needed to be tested for!\n",
    "l =[4, 1001, 1231, 123259, 12345577, 1234567811, 112233445589, 11223344556607, 198473094, 13918452024 ,32574985749857]"
   ]
  },
  {
   "cell_type": "code",
   "execution_count": 10,
   "metadata": {},
   "outputs": [
    {
     "name": "stdout",
     "output_type": "stream",
     "text": [
      "4                   {2: 2}\n",
      "1001                {11: 1, 13: 1, 7: 1}\n",
      "1231                {1231: 1}\n",
      "123259              {123259: 1}\n",
      "12345577            {12345577: 1}\n",
      "1234567811          {1234567811: 1}\n",
      "112233445589        {112233445589: 1}\n",
      "11223344556607      {11223344556607: 1}\n",
      "198473094           {193: 1, 2: 1, 3: 2, 57131: 1}\n",
      "13918452024         {4481: 1, 2: 3, 3: 1, 331: 1, 17: 1, 23: 1}\n",
      "32574985749857      {19: 1, 2269: 1, 755607287: 1}\n"
     ]
    }
   ],
   "source": [
    "# printing the results with formatting!\n",
    "for i in l: \n",
    "    print ('{0:<18} '.format(i) ,factorize(i))"
   ]
  },
  {
   "cell_type": "code",
   "execution_count": 11,
   "metadata": {},
   "outputs": [
    {
     "name": "stdout",
     "output_type": "stream",
     "text": [
      "112131              {4153: 1, 3: 3}\n",
      "3257498577985117    {3257498577985117: 1}\n",
      "89397244331         {101: 1, 885121231: 1}\n",
      "124331              {101: 1, 1231: 1}\n",
      "516346643           {4153: 1, 101: 1, 1231: 1}\n",
      "2                   {2: 1}\n",
      "1                   {}\n"
     ]
    },
    {
     "ename": "Exception",
     "evalue": "you entered a negative value!",
     "output_type": "error",
     "traceback": [
      "\u001b[0;31m---------------------------------------------------------------------------\u001b[0m",
      "\u001b[0;31mException\u001b[0m                                 Traceback (most recent call last)",
      "\u001b[0;32m<ipython-input-11-0255e849eb06>\u001b[0m in \u001b[0;36m<module>\u001b[0;34m\u001b[0m\n\u001b[1;32m      2\u001b[0m \u001b[0mm\u001b[0m \u001b[0;34m=\u001b[0m \u001b[0;34m[\u001b[0m\u001b[0;36m112131\u001b[0m\u001b[0;34m,\u001b[0m\u001b[0;36m3257498577985117\u001b[0m\u001b[0;34m,\u001b[0m\u001b[0;36m89397244331\u001b[0m\u001b[0;34m,\u001b[0m\u001b[0;36m124331\u001b[0m\u001b[0;34m,\u001b[0m\u001b[0;36m516346643\u001b[0m\u001b[0;34m,\u001b[0m \u001b[0;36m2\u001b[0m\u001b[0;34m,\u001b[0m \u001b[0;36m1\u001b[0m\u001b[0;34m,\u001b[0m \u001b[0;34m-\u001b[0m\u001b[0;36m1\u001b[0m  \u001b[0;34m]\u001b[0m\u001b[0;34m\u001b[0m\u001b[0m\n\u001b[1;32m      3\u001b[0m \u001b[0;32mfor\u001b[0m \u001b[0mi\u001b[0m \u001b[0;32min\u001b[0m \u001b[0mm\u001b[0m\u001b[0;34m:\u001b[0m\u001b[0;34m\u001b[0m\u001b[0m\n\u001b[0;32m----> 4\u001b[0;31m     \u001b[0mprint\u001b[0m \u001b[0;34m(\u001b[0m\u001b[0;34m'{0:<18} '\u001b[0m\u001b[0;34m.\u001b[0m\u001b[0mformat\u001b[0m\u001b[0;34m(\u001b[0m\u001b[0mi\u001b[0m\u001b[0;34m)\u001b[0m \u001b[0;34m,\u001b[0m\u001b[0mfactorize\u001b[0m\u001b[0;34m(\u001b[0m\u001b[0mi\u001b[0m\u001b[0;34m)\u001b[0m\u001b[0;34m)\u001b[0m\u001b[0;34m\u001b[0m\u001b[0m\n\u001b[0m",
      "\u001b[0;32m<ipython-input-8-1b6f9996388c>\u001b[0m in \u001b[0;36mfactorize\u001b[0;34m(n)\u001b[0m\n\u001b[1;32m      1\u001b[0m \u001b[0;32mdef\u001b[0m \u001b[0mfactorize\u001b[0m \u001b[0;34m(\u001b[0m\u001b[0mn\u001b[0m\u001b[0;34m)\u001b[0m\u001b[0;34m:\u001b[0m\u001b[0;34m\u001b[0m\u001b[0m\n\u001b[0;32m----> 2\u001b[0;31m     \u001b[0ma\u001b[0m \u001b[0;34m=\u001b[0m \u001b[0mtrial_2\u001b[0m\u001b[0;34m(\u001b[0m\u001b[0mn\u001b[0m\u001b[0;34m)\u001b[0m\u001b[0;34m\u001b[0m\u001b[0m\n\u001b[0m\u001b[1;32m      3\u001b[0m     \u001b[0;31m# in order to get a unique set of values!\u001b[0m\u001b[0;34m\u001b[0m\u001b[0;34m\u001b[0m\u001b[0m\n\u001b[1;32m      4\u001b[0m     \u001b[0mkeys\u001b[0m \u001b[0;34m=\u001b[0m \u001b[0mset\u001b[0m\u001b[0;34m(\u001b[0m\u001b[0ma\u001b[0m\u001b[0;34m)\u001b[0m\u001b[0;34m\u001b[0m\u001b[0m\n\u001b[1;32m      5\u001b[0m     \u001b[0;31m# the values are the counts of the no. of times a key occurs in the list!\u001b[0m\u001b[0;34m\u001b[0m\u001b[0;34m\u001b[0m\u001b[0m\n",
      "\u001b[0;32m<ipython-input-7-f146c616d53f>\u001b[0m in \u001b[0;36mtrial_2\u001b[0;34m(n)\u001b[0m\n\u001b[1;32m     14\u001b[0m         \u001b[0mn2\u001b[0m \u001b[0;34m=\u001b[0m \u001b[0mn\u001b[0m\u001b[0;34m\u001b[0m\u001b[0m\n\u001b[1;32m     15\u001b[0m     \u001b[0;31m# we take the list upto the number n2!\u001b[0m\u001b[0;34m\u001b[0m\u001b[0;34m\u001b[0m\u001b[0m\n\u001b[0;32m---> 16\u001b[0;31m     \u001b[0md\u001b[0m \u001b[0;34m=\u001b[0m \u001b[0msieve\u001b[0m\u001b[0;34m(\u001b[0m\u001b[0mn2\u001b[0m\u001b[0;34m)\u001b[0m\u001b[0;34m\u001b[0m\u001b[0m\n\u001b[0m\u001b[1;32m     17\u001b[0m     \u001b[0;31m# loop through the list to see if there are prime numbers till n2 which n is divisible by\u001b[0m\u001b[0;34m\u001b[0m\u001b[0;34m\u001b[0m\u001b[0m\n\u001b[1;32m     18\u001b[0m     \u001b[0;32mfor\u001b[0m \u001b[0mi\u001b[0m \u001b[0;32min\u001b[0m \u001b[0md\u001b[0m\u001b[0;34m:\u001b[0m\u001b[0;34m\u001b[0m\u001b[0m\n",
      "\u001b[0;32m<ipython-input-4-4f713b23450d>\u001b[0m in \u001b[0;36msieve\u001b[0;34m(n)\u001b[0m\n\u001b[1;32m     25\u001b[0m         \u001b[0;32mreturn\u001b[0m \u001b[0mprimes\u001b[0m\u001b[0;34m\u001b[0m\u001b[0m\n\u001b[1;32m     26\u001b[0m     \u001b[0;32melse\u001b[0m\u001b[0;34m:\u001b[0m\u001b[0;34m\u001b[0m\u001b[0m\n\u001b[0;32m---> 27\u001b[0;31m         \u001b[0;32mraise\u001b[0m \u001b[0mException\u001b[0m\u001b[0;34m(\u001b[0m\u001b[0;34m'you entered a negative value!'\u001b[0m\u001b[0;34m)\u001b[0m\u001b[0;34m\u001b[0m\u001b[0m\n\u001b[0m",
      "\u001b[0;31mException\u001b[0m: you entered a negative value!"
     ]
    }
   ],
   "source": [
    "# extra test cases!\n",
    "m = [112131,3257498577985117,89397244331,124331,516346643, 2, 1, -1  ]\n",
    "for i in m: \n",
    "    print ('{0:<18} '.format(i) ,factorize(i))"
   ]
  },
  {
   "cell_type": "markdown",
   "metadata": {},
   "source": [
    "<H1> Excercise 3  </H1> \n",
    "<br> <H2> Taylor Series </H2>"
   ]
  },
  {
   "cell_type": "markdown",
   "metadata": {},
   "source": [
    "Using Taylor series, a function can be expressed as an infinite sum of terms that are computed from\n",
    "the derivatives of the function at a certain point. For example, for values of x that are sufficiently close\n",
    "to 0,"
   ]
  },
  {
   "cell_type": "markdown",
   "metadata": {},
   "source": [
    "the function 1 can be expressed as \n",
    "1/(1-x) =1+x+x**2 +x**3 +··· "
   ]
  },
  {
   "cell_type": "markdown",
   "metadata": {},
   "source": [
    "• Write a generator function that takes as input x and computes partial sums of the Taylor series shown above. Each new value that is generated should result from adding one more term to the previously computed sum. (4P)"
   ]
  },
  {
   "cell_type": "code",
   "execution_count": 12,
   "metadata": {},
   "outputs": [],
   "source": [
    "# the code for the python script!\n",
    "# python script file attached separately in the mail!\n",
    "\n",
    "def taylor(x):\n",
    "        p = 0 \n",
    "        s = 0\n",
    "        while True: \n",
    "            s+= x**p\n",
    "            p+=1\n",
    "            yield s\n",
    "            \n",
    "\n",
    "   "
   ]
  },
  {
   "cell_type": "code",
   "execution_count": 13,
   "metadata": {},
   "outputs": [
    {
     "name": "stdout",
     "output_type": "stream",
     "text": [
      "Enter x: 2\n",
      "Enter n: 10\n",
      "1023.0\n",
      "Enter x: 2\n",
      "Enter n: 3\n",
      "7.0\n"
     ]
    }
   ],
   "source": [
    "for i in range(2): \n",
    "    x = float(input('Enter x: '))\n",
    "    n = int(input('Enter n: '))\n",
    "    f = taylor(x)\n",
    "    for j in range(n-1): \n",
    "        next(f) \n",
    "    print (next(f))"
   ]
  },
  {
   "cell_type": "markdown",
   "metadata": {},
   "source": [
    "• The Taylor series shown above only converges if |x| < 1. Modify the generator function so that it raises an exception when this condition is violated and make sure that your script handles this exception by displaying a meaningful error message to the user. "
   ]
  },
  {
   "cell_type": "code",
   "execution_count": 14,
   "metadata": {},
   "outputs": [],
   "source": [
    "def taylor_2(x): \n",
    "    s = 0 \n",
    "    p = 0 \n",
    "    while True:\n",
    "        try : \n",
    "            if (abs(x)<1): \n",
    "                s+= x**p \n",
    "                p+= 1 \n",
    "                yield s\n",
    "            if(abs(x)>=1): \n",
    "                raise ValueError('Value gives non convergent sequence')\n",
    "        except ValueError as ex: \n",
    "            yield ex"
   ]
  },
  {
   "cell_type": "code",
   "execution_count": 15,
   "metadata": {},
   "outputs": [
    {
     "name": "stdout",
     "output_type": "stream",
     "text": [
      "Enter x: 2\n",
      "Enter n: 2\n",
      "Value gives non convergent sequence\n",
      "Enter x: 2\n",
      "Enter n: 7\n",
      "Value gives non convergent sequence\n"
     ]
    }
   ],
   "source": [
    "for i in range(2): \n",
    "    x = float(input('Enter x: '))\n",
    "    n = int(input('Enter n: '))\n",
    "    f = taylor_2(x)\n",
    "    for j in range(n-1): \n",
    "        next(f) \n",
    "    print (next(f))"
   ]
  },
  {
   "cell_type": "markdown",
   "metadata": {},
   "source": [
    "# • Write a script file that can be executed from the terminal. The script file should take as arguments x and the number of terms n and it should return the sum of the first n terms of the series. (4P)"
   ]
  },
  {
   "cell_type": "code",
   "execution_count": null,
   "metadata": {},
   "outputs": [],
   "source": [
    "\n",
    "def taylor(x):\n",
    "        p = 0 \n",
    "        s = 0\n",
    "        while True: \n",
    "            s+= x**p\n",
    "            p+=1\n",
    "            yield s\n",
    "            \n",
    "\n",
    "\n",
    "def generate():\n",
    "    k =0 \n",
    "    try:\n",
    "        x =  float(input('enter x :'))\n",
    "        n = int(input('enter n :'))\n",
    "        if (abs(x)<1): \n",
    "            f = taylor(x)\n",
    "            print ('1 +', flush = True, end = '')\n",
    "            while(k< n-1): \n",
    "                # fist till n-1, it generates\n",
    "                print ('x^', k, '+', flush= True, end = '')\n",
    "                next(f) \n",
    "                k+=1\n",
    "            sum1 = next(f)\n",
    "            print ('x^',n-1)\n",
    "            print ('The sum is: ', sum1)\n",
    "        if(abs (x) >= 1):\n",
    "            raise ValueError(\"Value gives non convergent sequence\")\n",
    "        \n",
    "    except ValueError:\n",
    "        print (\"Received Error, Value gives non convergent sequence!\")\n",
    "\n",
    "    \n",
    "s = input('To continue press C else any key ')\n",
    "while(s.lower() == 'c'):\n",
    "     generate()\n",
    "     s=input('To continue press C else any key ')"
   ]
  },
  {
   "cell_type": "markdown",
   "metadata": {},
   "source": [
    "try:  <br>\n",
    "    g = taylor_series(x) <br> \n",
    "    for i in range(n):  <br> \n",
    "        print (next(g)) <br> \n",
    "except Exception as err: <br>\n",
    "    print (err.args[0]) <br> "
   ]
  },
  {
   "cell_type": "code",
   "execution_count": null,
   "metadata": {},
   "outputs": [],
   "source": []
  }
 ],
 "metadata": {
  "kernelspec": {
   "display_name": "Python 3",
   "language": "python",
   "name": "python3"
  },
  "language_info": {
   "codemirror_mode": {
    "name": "ipython",
    "version": 3
   },
   "file_extension": ".py",
   "mimetype": "text/x-python",
   "name": "python",
   "nbconvert_exporter": "python",
   "pygments_lexer": "ipython3",
   "version": "3.7.5"
  }
 },
 "nbformat": 4,
 "nbformat_minor": 2
}
